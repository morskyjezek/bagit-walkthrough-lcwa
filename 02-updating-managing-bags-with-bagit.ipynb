{
 "cells": [
  {
   "cell_type": "markdown",
   "id": "fe54e861-b689-43d6-8c9a-379d7bf46fea",
   "metadata": {},
   "source": [
    "# Additional operations with bagit\n",
    "\n",
    "This notebook uses the same samples as the previous one, but\n",
    "demonstrates additional actions like updating Bag Info metadata,\n",
    "updating bag manifests, and further options that can be used for a\n",
    "Bag object."
   ]
  },
  {
   "cell_type": "code",
   "execution_count": null,
   "id": "17d4802a-ecb7-44ac-8f8b-45e1603c889b",
   "metadata": {},
   "outputs": [],
   "source": [
    "import bagit"
   ]
  },
  {
   "cell_type": "markdown",
   "id": "4c0113b7-864b-4082-8e4e-455b795fb1f4",
   "metadata": {},
   "source": [
    "## Updating contents\n",
    "\n",
    "In a working situation, for example when an object is being scanned, digital objects\n",
    "and information may be frequently updated as files are added, metadata is updated, or\n",
    "other changes are made to finalize content. Sometimes, this means that the payload\n",
    "information may change after a bag is created. There are additional functions in the\n",
    "bagit library to update Bag Info, and to update manifests. "
   ]
  },
  {
   "cell_type": "code",
   "execution_count": null,
   "id": "ce00f76b-ef5c-4c5d-9954-6d20b1fe7a12",
   "metadata": {},
   "outputs": [],
   "source": [
    "#add a file to the bag\n",
    "!touch sample-files/data/new-file.txt"
   ]
  },
  {
   "cell_type": "code",
   "execution_count": null,
   "id": "ed570fa9-497c-41c7-9757-7f50757b94f5",
   "metadata": {},
   "outputs": [],
   "source": [
    "# load the changed bag by creating a bagit object with .Bag() method\n",
    "changed_bag = bagit.Bag('sample-files')\n",
    "\n",
    "# check validation\n",
    "validation = changed_bag.is_valid()\n",
    "\n",
    "# display result\n",
    "print(validation)"
   ]
  },
  {
   "cell_type": "markdown",
   "id": "00cc1fbe-9b75-4783-9f7a-dd7f0497ccdc",
   "metadata": {},
   "source": [
    "### Update the bag info\n",
    "\n",
    "Add or replace existing Bag Info metadata using the bag.info object like a Python dictionary:"
   ]
  },
  {
   "cell_type": "code",
   "execution_count": null,
   "id": "59df92e7-30f1-4e57-b623-eb4d6fb5cacf",
   "metadata": {},
   "outputs": [],
   "source": [
    "# update bag info\n",
    "changed_bag.info['Internal-Description'] = 'Updated and added new files.'\n",
    "\n",
    "# save the updated bag object to filesystem\n",
    "changed_bag.save()"
   ]
  },
  {
   "cell_type": "markdown",
   "id": "3bf874b9-9f39-469b-a900-3aff91b98b78",
   "metadata": {},
   "source": [
    "- check the baginfo.txt file "
   ]
  },
  {
   "cell_type": "code",
   "execution_count": null,
   "id": "e249fb96-d6a2-4771-bbaa-fead88b392eb",
   "metadata": {},
   "outputs": [],
   "source": [
    "!cat sample-files/bag-info.txt"
   ]
  },
  {
   "cell_type": "markdown",
   "id": "e9147dfa-1f77-4e48-a786-f0f214602be0",
   "metadata": {},
   "source": [
    "### Update the bag manifests\n",
    "\n",
    "The `.save()` method used above does not update the bag manifests. So, if you try to validate\n",
    "the changed bag at this point, it will still return a `False` result. The bag is not valid yet."
   ]
  },
  {
   "cell_type": "code",
   "execution_count": null,
   "id": "d23ff65f-af0c-4d9a-a049-123d12286259",
   "metadata": {},
   "outputs": [],
   "source": [
    "changed_bag.is_valid()"
   ]
  },
  {
   "cell_type": "markdown",
   "id": "5d26d568-cf8e-49a6-b382-24b7e14f321c",
   "metadata": {},
   "source": [
    "The `save` method does not automatically update manifests because there may be\n",
    "cases when you just want to update the Bag Info information. \n",
    "To update the manifests, add a `manifests=True` argument to the save call:"
   ]
  },
  {
   "cell_type": "code",
   "execution_count": null,
   "id": "a9dcb22e-2f4f-459f-a430-19f486247ee8",
   "metadata": {},
   "outputs": [],
   "source": [
    "changed_bag.save(manifests=True)"
   ]
  },
  {
   "cell_type": "markdown",
   "id": "0afbd5af-b4d6-44af-a100-635633a63666",
   "metadata": {},
   "source": [
    "Now check again to validate the bag:"
   ]
  },
  {
   "cell_type": "code",
   "execution_count": null,
   "id": "7bf826a8-a513-4398-b164-67d1adfd64b6",
   "metadata": {},
   "outputs": [],
   "source": [
    "changed_bag.is_valid()"
   ]
  },
  {
   "cell_type": "markdown",
   "id": "eeff9e8f-3324-4a21-84e4-d279008e30c1",
   "metadata": {},
   "source": [
    "- What was your result? What result did you expect? \n",
    "- If you did not get the result you expected, can you trace back in the cells to see what happened?"
   ]
  },
  {
   "cell_type": "markdown",
   "id": "ec9b874e-40bd-42be-91bc-04ef550d17be",
   "metadata": {},
   "source": [
    "## Using the bagit library's additional functions\n",
    "\n",
    "It's possible to check the bag using the `my_bag` data object that was created above. For example, use the `entries.items()` method to display a list of the files and fixity information. The output should be\n",
    "somewhat similar to the previous cell, which showed the contents of the SHA-256 manifest."
   ]
  },
  {
   "cell_type": "code",
   "execution_count": null,
   "id": "4a3c1624-b7d9-47a6-b1eb-97d2815d5d69",
   "metadata": {},
   "outputs": [],
   "source": [
    "# create the bag object, in case it isn't already there\n",
    "my_bag = bagit.Bag('sample-bag-1-valid/')"
   ]
  },
  {
   "cell_type": "code",
   "execution_count": null,
   "id": "c1f5d4fd-a449-4820-a8ac-efc6cc7286e8",
   "metadata": {},
   "outputs": [],
   "source": [
    "# retrieve and display path and fixity information from the bagit python object my_bag\n",
    "\n",
    "line_count = 0\n",
    "\n",
    "for path, fixity in my_bag.entries.items():\n",
    "    line_count += 1\n",
    "    print(\"%s. sha256:%s path:%s\" % (line_count, fixity['sha256'], path))"
   ]
  }
 ],
 "metadata": {
  "kernelspec": {
   "display_name": "Python 3",
   "language": "python",
   "name": "python3"
  },
  "language_info": {
   "codemirror_mode": {
    "name": "ipython",
    "version": 3
   },
   "file_extension": ".py",
   "mimetype": "text/x-python",
   "name": "python",
   "nbconvert_exporter": "python",
   "pygments_lexer": "ipython3",
   "version": "3.8.8"
  }
 },
 "nbformat": 4,
 "nbformat_minor": 5
}
