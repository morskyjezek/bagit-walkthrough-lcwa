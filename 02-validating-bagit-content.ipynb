{
 "cells": [
  {
   "cell_type": "markdown",
   "id": "11d56ea7-b5d1-4eca-b067-53759562df98",
   "metadata": {},
   "source": [
    "# Additional operations with bagit\n",
    "\n",
    "This notebook uses the same samples as the previous one, but\n",
    "demonstrates additional actions like validating bags and checking for errors."
   ]
  },
  {
   "cell_type": "code",
   "execution_count": null,
   "id": "6f2fc94a-f35e-4310-ae78-affcc6f7e3e7",
   "metadata": {},
   "outputs": [],
   "source": [
    "import bagit"
   ]
  },
  {
   "cell_type": "markdown",
   "id": "73319fdf-16ed-4fee-9d83-baade5ebd811",
   "metadata": {},
   "source": [
    "## Content Validation: is_valid()\n",
    "\n",
    "One benefit of using this packaging approach is that it is simple, in the sense that \n",
    "it only exists as files on a disc or server and does not require any specialized software\n",
    "to see the files or decompress them. In addition, this approach allows you as a digital curator,\n",
    "librarian, or archivist, to receive, store, and preserve digital assets even when you may not \n",
    "have all of the information about what these assets are or how they might be used. In the words\n",
    "of the BagIt spec, the contents of a bag are \"opaque\", that is, it is possible to verify that the \n",
    "content is accurate whether or not you can display it, render it viewable or processable with software,\n",
    "or the contents are subject to rights management or proprietary restrictions.\n",
    "\n",
    "The specification and structure of a BagIt bag make it possible to check the contents \n",
    "without \"seeing\" them. This is made possible because we can see if the bag is **complete**,\n",
    "and we can also check to see if the bag is **valid**. \n",
    "\n",
    "* A **complete** bag is one that has all of the required \n",
    "elements of a bag: a BagIt declaration (`bagit.txt`), a payload (the `data` directory), and a payload manifest\n",
    "(the list of files and checksums, located in the top-level directory, probably called \n",
    "something like `manifest-sha256.txt`). \n",
    "* A **valid** bag is one that is complete and for which it is possible to check each file in the\n",
    "payload, calculate a checksum for it, and verify that the checksum is the same as the one listed in the manifest, indicating that the contents have not changed. \n",
    "\n",
    "To assess the bag that was created above, we can again use the `bagit` library, which has an `is_valid()` function.\n",
    "This function will check to see if the bag is indeed an object that we can validate is a well-formed BagIt object. For demonstration, the next two cells use the `sample-bag-1-valid` folder, which is\n",
    "an already-created bag included in the GitHub repo."
   ]
  },
  {
   "cell_type": "code",
   "execution_count": null,
   "id": "10544050-c720-4d78-9fe4-cc5d7bb873ba",
   "metadata": {},
   "outputs": [],
   "source": [
    "# load the bag\n",
    "test_bag = bagit.Bag('sample-bag-1-valid/')"
   ]
  },
  {
   "cell_type": "code",
   "execution_count": null,
   "id": "f2875b8b-4773-41b5-8014-c0504f4e8a23",
   "metadata": {},
   "outputs": [],
   "source": [
    "# check to see if the bag is valid\n",
    "if test_bag.is_valid():\n",
    "    print(\"yay :)\")\n",
    "else:\n",
    "    print(\"boo :(\")"
   ]
  },
  {
   "cell_type": "markdown",
   "id": "0bca2626-e7d0-452b-bf40-09b2333d35b8",
   "metadata": {},
   "source": [
    "- what output did you get above?"
   ]
  },
  {
   "cell_type": "code",
   "execution_count": null,
   "id": "b98bbd2b-5336-4a29-9a76-704dec91528c",
   "metadata": {},
   "outputs": [],
   "source": [
    "validity = test_bag.is_valid()\n",
    "\n",
    "print(validity, type(validity))"
   ]
  },
  {
   "cell_type": "markdown",
   "id": "7216b263-17ad-4604-a27f-2467ab205330",
   "metadata": {},
   "source": [
    "- Note that `is_valid()` returns a boolean value (True/False)\n",
    "- in a script, this would allow you to do validity testing and create update or correction optiosn"
   ]
  },
  {
   "cell_type": "code",
   "execution_count": null,
   "id": "67b580d2-f57c-4e8b-9f21-b16e9b728e71",
   "metadata": {},
   "outputs": [],
   "source": [
    "# what if the bag is not valid\n",
    "not_a_valid_bag = bagit.Bag('sample-bag-2-invalid/')\n",
    "\n",
    "not_a_valid_bag.is_valid()"
   ]
  },
  {
   "cell_type": "markdown",
   "id": "297816e0-4753-443d-aa91-23b01acc696b",
   "metadata": {},
   "source": [
    "The `validate` method allows a closer look at what sort of errors the validator is finding."
   ]
  },
  {
   "cell_type": "code",
   "execution_count": null,
   "id": "f266ad51-87b1-43ab-b401-d28fd6807098",
   "metadata": {},
   "outputs": [],
   "source": [
    "try:\n",
    "    not_a_valid_bag.validate()\n",
    "\n",
    "except bagit.BagValidationError as error_msg:\n",
    "    print(error_msg)"
   ]
  },
  {
   "cell_type": "markdown",
   "id": "f43dec68-ab89-466d-aa2f-649994c22368",
   "metadata": {},
   "source": [
    "- Reading error message activity: what sort of error comes up with this bag `sample-bag-2-invalid`?"
   ]
  }
 ],
 "metadata": {
  "kernelspec": {
   "display_name": "Python 3",
   "language": "python",
   "name": "python3"
  },
  "language_info": {
   "codemirror_mode": {
    "name": "ipython",
    "version": 3
   },
   "file_extension": ".py",
   "mimetype": "text/x-python",
   "name": "python",
   "nbconvert_exporter": "python",
   "pygments_lexer": "ipython3",
   "version": "3.8.8"
  }
 },
 "nbformat": 4,
 "nbformat_minor": 5
}
