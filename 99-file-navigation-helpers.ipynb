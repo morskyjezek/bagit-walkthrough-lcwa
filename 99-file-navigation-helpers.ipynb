{
 "cells": [
  {
   "cell_type": "markdown",
   "id": "788b48e4-d073-4747-ba92-8f4810de5a18",
   "metadata": {},
   "source": [
    "This notebook contains a few cells that can help with file manipulation\n",
    "using the `os` and `pathlib` modules."
   ]
  },
  {
   "cell_type": "code",
   "execution_count": 1,
   "id": "e2020818-3946-4acd-929a-da2d1a3cd210",
   "metadata": {},
   "outputs": [],
   "source": [
    "import os\n",
    "from pathlib import Path"
   ]
  },
  {
   "cell_type": "code",
   "execution_count": 2,
   "id": "3f513178-cb92-4c80-bec1-290f4e98b272",
   "metadata": {},
   "outputs": [
    {
     "name": "stdout",
     "output_type": "stream",
     "text": [
      "01-1480.pdf True 49088\n",
      "file.pdf True 1538\n",
      "Chapter03.pdf True 51919\n",
      "PFCHEJ.pdf True 10577\n",
      "HR2021 commtext.pdf True 36305\n"
     ]
    }
   ],
   "source": [
    "# check to see if all the pdfs are files,... okay\n",
    "sample_dir = Path('sample-files')\n",
    "\n",
    "target_dir = Path (sample_dir, 'pdf')\n",
    "\n",
    "for file in Path.iterdir(target_dir):\n",
    "    print(file.name, Path.is_file(file), os.path.getsize(file))"
   ]
  },
  {
   "cell_type": "code",
   "execution_count": 3,
   "id": "0ec5e809-f45b-4b44-a5d0-f3a10533e43b",
   "metadata": {},
   "outputs": [
    {
     "name": "stdout",
     "output_type": "stream",
     "text": [
      "removing 01-1480.pdf\n",
      "removing file.pdf\n",
      "removing Chapter03.pdf\n",
      "removing PFCHEJ.pdf\n",
      "removing HR2021 commtext.pdf\n"
     ]
    }
   ],
   "source": [
    "# remove the pdf files\n",
    "for file in Path.iterdir(target_dir):\n",
    "    print('removing',file.name)\n",
    "    file.unlink()\n",
    "    \n",
    "# remove the pdf directory\n",
    "target_dir.rmdir()"
   ]
  },
  {
   "cell_type": "code",
   "execution_count": null,
   "id": "1e76b5ed-42a7-4043-8655-68d6100481d9",
   "metadata": {},
   "outputs": [],
   "source": []
  }
 ],
 "metadata": {
  "kernelspec": {
   "display_name": "Python 3",
   "language": "python",
   "name": "python3"
  },
  "language_info": {
   "codemirror_mode": {
    "name": "ipython",
    "version": 3
   },
   "file_extension": ".py",
   "mimetype": "text/x-python",
   "name": "python",
   "nbconvert_exporter": "python",
   "pygments_lexer": "ipython3",
   "version": "3.8.8"
  }
 },
 "nbformat": 4,
 "nbformat_minor": 5
}
