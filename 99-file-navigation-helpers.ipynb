{
 "cells": [
  {
   "cell_type": "markdown",
   "id": "788b48e4-d073-4747-ba92-8f4810de5a18",
   "metadata": {},
   "source": [
    "This notebook contains a few cells that can help with file manipulation\n",
    "using the `os` and `pathlib` modules."
   ]
  },
  {
   "cell_type": "code",
   "execution_count": null,
   "id": "e2020818-3946-4acd-929a-da2d1a3cd210",
   "metadata": {},
   "outputs": [],
   "source": [
    "import os\n",
    "from pathlib import Path"
   ]
  },
  {
   "cell_type": "code",
   "execution_count": null,
   "id": "3f513178-cb92-4c80-bec1-290f4e98b272",
   "metadata": {},
   "outputs": [],
   "source": [
    "# check to see if all the pdfs are files,... okay\n",
    "sample_dir = Path('sample-files')\n",
    "\n",
    "target_dir = Path (sample_dir, 'pdf')\n",
    "\n",
    "for file in Path.iterdir(target_dir):\n",
    "    print(file.name, Path.is_file(file), os.path.getsize(file))"
   ]
  },
  {
   "cell_type": "code",
   "execution_count": null,
   "id": "0ec5e809-f45b-4b44-a5d0-f3a10533e43b",
   "metadata": {},
   "outputs": [],
   "source": [
    "# remove the pdf files\n",
    "for file in Path.iterdir(target_dir):\n",
    "    print('removing',file.name)\n",
    "    file.unlink()\n",
    "    \n",
    "# remove the pdf directory\n",
    "target_dir.rmdir()"
   ]
  },
  {
   "cell_type": "code",
   "execution_count": null,
   "id": "1e76b5ed-42a7-4043-8655-68d6100481d9",
   "metadata": {},
   "outputs": [],
   "source": [
    "# list files in the sample_dir\n",
    "for file in Path.iterdir(sample_dir):\n",
    "    print(file)"
   ]
  },
  {
   "cell_type": "code",
   "execution_count": null,
   "id": "d8f6a772-e0b9-4174-bf5e-29bca2ba39a9",
   "metadata": {},
   "outputs": [],
   "source": [
    "# check if path is a file\n",
    "existing = Path('sample-files/bagit.txt')\n",
    "\n",
    "Path.is_file(existing)"
   ]
  },
  {
   "cell_type": "code",
   "execution_count": null,
   "id": "9c9b3867-ff62-4fb0-884b-8891c25b19ee",
   "metadata": {},
   "outputs": [],
   "source": [
    "#add files using pathlib\n",
    "\n",
    "# set destination path\n",
    "bag_location = Path('sample-files','data')\n",
    "\n",
    "# add files using list as filenames\n",
    "files = ['new-file-1.txt','new-file-2.txt']\n",
    "\n",
    "for file in files:\n",
    "    Path(bag_location,file).touch()"
   ]
  }
 ],
 "metadata": {
  "kernelspec": {
   "display_name": "Python 3",
   "language": "python",
   "name": "python3"
  },
  "language_info": {
   "codemirror_mode": {
    "name": "ipython",
    "version": 3
   },
   "file_extension": ".py",
   "mimetype": "text/x-python",
   "name": "python",
   "nbconvert_exporter": "python",
   "pygments_lexer": "ipython3",
   "version": "3.8.8"
  }
 },
 "nbformat": 4,
 "nbformat_minor": 5
}
